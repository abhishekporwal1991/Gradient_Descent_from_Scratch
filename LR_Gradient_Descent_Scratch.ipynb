{
 "cells": [
  {
   "cell_type": "markdown",
   "metadata": {},
   "source": [
    "## Implement a Gradient Descent Algorithms for Logistic Regression."
   ]
  },
  {
   "cell_type": "markdown",
   "metadata": {},
   "source": [
    "#### Loading the required packages"
   ]
  },
  {
   "cell_type": "code",
   "execution_count": 1,
   "metadata": {},
   "outputs": [],
   "source": [
    "import pandas as pd\n",
    "import numpy as np\n",
    "import matplotlib.pyplot as plt\n",
    "import seaborn as sn\n",
    "%matplotlib inline"
   ]
  },
  {
   "cell_type": "code",
   "execution_count": 2,
   "metadata": {},
   "outputs": [],
   "source": [
    "import warnings\n",
    "warnings.filterwarnings('ignore')\n",
    "\n",
    "# Disbaling 'jedi' to resolve the issue of auto completion\n",
    "%config Completer.use_jedi = False"
   ]
  },
  {
   "cell_type": "markdown",
   "metadata": {},
   "source": [
    "#### Loading the data"
   ]
  },
  {
   "cell_type": "code",
   "execution_count": 3,
   "metadata": {},
   "outputs": [
    {
     "data": {
      "text/html": [
       "<style>\n",
       "table {float:left}\n",
       "</style>\n"
      ],
      "text/plain": [
       "<IPython.core.display.HTML object>"
      ]
     },
     "metadata": {},
     "output_type": "display_data"
    }
   ],
   "source": [
    "%%html\n",
    "<style>\n",
    "table {float:left}\n",
    "</style>"
   ]
  },
  {
   "cell_type": "markdown",
   "metadata": {},
   "source": [
    "| Variable Name | Description |         \n",
    "| :-----------: |:----------: |\n",
    "| sbp           | Systolic blood pressure |\n",
    "| tobacco       | cumulative tobacco (kg) |\n",
    "| ldl           | low densiity lipoprotein cholesterol |\n",
    "| adiposity     | index |\n",
    "| famhist       | family history of heart disease (Present, Absent) |\n",
    "| typea         | type-A behavior |\n",
    "| obesity       | index |\n",
    "| alcohol       | current alcohol consumption  |\n",
    "| age           | age at onset |\n",
    "| chd           | response, coronary heart disease |\t      "
   ]
  },
  {
   "cell_type": "code",
   "execution_count": 4,
   "metadata": {},
   "outputs": [],
   "source": [
    "chd_df = pd.read_csv(\"D:/Study/Data Science/IIMB_BDA Course/Assignment 3/Q3_gradient descent/SAheart.data.csv\")"
   ]
  },
  {
   "cell_type": "code",
   "execution_count": 5,
   "metadata": {
    "scrolled": true
   },
   "outputs": [
    {
     "data": {
      "text/html": [
       "<div>\n",
       "<style scoped>\n",
       "    .dataframe tbody tr th:only-of-type {\n",
       "        vertical-align: middle;\n",
       "    }\n",
       "\n",
       "    .dataframe tbody tr th {\n",
       "        vertical-align: top;\n",
       "    }\n",
       "\n",
       "    .dataframe thead th {\n",
       "        text-align: right;\n",
       "    }\n",
       "</style>\n",
       "<table border=\"1\" class=\"dataframe\">\n",
       "  <thead>\n",
       "    <tr style=\"text-align: right;\">\n",
       "      <th></th>\n",
       "      <th>row.names</th>\n",
       "      <th>sbp</th>\n",
       "      <th>tobacco</th>\n",
       "      <th>ldl</th>\n",
       "      <th>adiposity</th>\n",
       "      <th>famhist</th>\n",
       "      <th>typea</th>\n",
       "      <th>obesity</th>\n",
       "      <th>alcohol</th>\n",
       "      <th>age</th>\n",
       "      <th>chd</th>\n",
       "    </tr>\n",
       "  </thead>\n",
       "  <tbody>\n",
       "    <tr>\n",
       "      <th>0</th>\n",
       "      <td>1</td>\n",
       "      <td>160</td>\n",
       "      <td>12.00</td>\n",
       "      <td>5.73</td>\n",
       "      <td>23.11</td>\n",
       "      <td>Present</td>\n",
       "      <td>49</td>\n",
       "      <td>25.30</td>\n",
       "      <td>97.20</td>\n",
       "      <td>52</td>\n",
       "      <td>1</td>\n",
       "    </tr>\n",
       "    <tr>\n",
       "      <th>1</th>\n",
       "      <td>2</td>\n",
       "      <td>144</td>\n",
       "      <td>0.01</td>\n",
       "      <td>4.41</td>\n",
       "      <td>28.61</td>\n",
       "      <td>Absent</td>\n",
       "      <td>55</td>\n",
       "      <td>28.87</td>\n",
       "      <td>2.06</td>\n",
       "      <td>63</td>\n",
       "      <td>1</td>\n",
       "    </tr>\n",
       "    <tr>\n",
       "      <th>2</th>\n",
       "      <td>3</td>\n",
       "      <td>118</td>\n",
       "      <td>0.08</td>\n",
       "      <td>3.48</td>\n",
       "      <td>32.28</td>\n",
       "      <td>Present</td>\n",
       "      <td>52</td>\n",
       "      <td>29.14</td>\n",
       "      <td>3.81</td>\n",
       "      <td>46</td>\n",
       "      <td>0</td>\n",
       "    </tr>\n",
       "    <tr>\n",
       "      <th>3</th>\n",
       "      <td>4</td>\n",
       "      <td>170</td>\n",
       "      <td>7.50</td>\n",
       "      <td>6.41</td>\n",
       "      <td>38.03</td>\n",
       "      <td>Present</td>\n",
       "      <td>51</td>\n",
       "      <td>31.99</td>\n",
       "      <td>24.26</td>\n",
       "      <td>58</td>\n",
       "      <td>1</td>\n",
       "    </tr>\n",
       "    <tr>\n",
       "      <th>4</th>\n",
       "      <td>5</td>\n",
       "      <td>134</td>\n",
       "      <td>13.60</td>\n",
       "      <td>3.50</td>\n",
       "      <td>27.78</td>\n",
       "      <td>Present</td>\n",
       "      <td>60</td>\n",
       "      <td>25.99</td>\n",
       "      <td>57.34</td>\n",
       "      <td>49</td>\n",
       "      <td>1</td>\n",
       "    </tr>\n",
       "    <tr>\n",
       "      <th>5</th>\n",
       "      <td>6</td>\n",
       "      <td>132</td>\n",
       "      <td>6.20</td>\n",
       "      <td>6.47</td>\n",
       "      <td>36.21</td>\n",
       "      <td>Present</td>\n",
       "      <td>62</td>\n",
       "      <td>30.77</td>\n",
       "      <td>14.14</td>\n",
       "      <td>45</td>\n",
       "      <td>0</td>\n",
       "    </tr>\n",
       "    <tr>\n",
       "      <th>6</th>\n",
       "      <td>7</td>\n",
       "      <td>142</td>\n",
       "      <td>4.05</td>\n",
       "      <td>3.38</td>\n",
       "      <td>16.20</td>\n",
       "      <td>Absent</td>\n",
       "      <td>59</td>\n",
       "      <td>20.81</td>\n",
       "      <td>2.62</td>\n",
       "      <td>38</td>\n",
       "      <td>0</td>\n",
       "    </tr>\n",
       "    <tr>\n",
       "      <th>7</th>\n",
       "      <td>8</td>\n",
       "      <td>114</td>\n",
       "      <td>4.08</td>\n",
       "      <td>4.59</td>\n",
       "      <td>14.60</td>\n",
       "      <td>Present</td>\n",
       "      <td>62</td>\n",
       "      <td>23.11</td>\n",
       "      <td>6.72</td>\n",
       "      <td>58</td>\n",
       "      <td>1</td>\n",
       "    </tr>\n",
       "    <tr>\n",
       "      <th>8</th>\n",
       "      <td>9</td>\n",
       "      <td>114</td>\n",
       "      <td>0.00</td>\n",
       "      <td>3.83</td>\n",
       "      <td>19.40</td>\n",
       "      <td>Present</td>\n",
       "      <td>49</td>\n",
       "      <td>24.86</td>\n",
       "      <td>2.49</td>\n",
       "      <td>29</td>\n",
       "      <td>0</td>\n",
       "    </tr>\n",
       "    <tr>\n",
       "      <th>9</th>\n",
       "      <td>10</td>\n",
       "      <td>132</td>\n",
       "      <td>0.00</td>\n",
       "      <td>5.80</td>\n",
       "      <td>30.96</td>\n",
       "      <td>Present</td>\n",
       "      <td>69</td>\n",
       "      <td>30.11</td>\n",
       "      <td>0.00</td>\n",
       "      <td>53</td>\n",
       "      <td>1</td>\n",
       "    </tr>\n",
       "  </tbody>\n",
       "</table>\n",
       "</div>"
      ],
      "text/plain": [
       "   row.names  sbp  tobacco   ldl  adiposity  famhist  typea  obesity  alcohol  \\\n",
       "0          1  160    12.00  5.73      23.11  Present     49    25.30    97.20   \n",
       "1          2  144     0.01  4.41      28.61   Absent     55    28.87     2.06   \n",
       "2          3  118     0.08  3.48      32.28  Present     52    29.14     3.81   \n",
       "3          4  170     7.50  6.41      38.03  Present     51    31.99    24.26   \n",
       "4          5  134    13.60  3.50      27.78  Present     60    25.99    57.34   \n",
       "5          6  132     6.20  6.47      36.21  Present     62    30.77    14.14   \n",
       "6          7  142     4.05  3.38      16.20   Absent     59    20.81     2.62   \n",
       "7          8  114     4.08  4.59      14.60  Present     62    23.11     6.72   \n",
       "8          9  114     0.00  3.83      19.40  Present     49    24.86     2.49   \n",
       "9         10  132     0.00  5.80      30.96  Present     69    30.11     0.00   \n",
       "\n",
       "   age  chd  \n",
       "0   52    1  \n",
       "1   63    1  \n",
       "2   46    0  \n",
       "3   58    1  \n",
       "4   49    1  \n",
       "5   45    0  \n",
       "6   38    0  \n",
       "7   58    1  \n",
       "8   29    0  \n",
       "9   53    1  "
      ]
     },
     "execution_count": 5,
     "metadata": {},
     "output_type": "execute_result"
    }
   ],
   "source": [
    "chd_df.head(10)"
   ]
  },
  {
   "cell_type": "code",
   "execution_count": 6,
   "metadata": {},
   "outputs": [
    {
     "name": "stdout",
     "output_type": "stream",
     "text": [
      "<class 'pandas.core.frame.DataFrame'>\n",
      "RangeIndex: 462 entries, 0 to 461\n",
      "Data columns (total 11 columns):\n",
      "row.names    462 non-null int64\n",
      "sbp          462 non-null int64\n",
      "tobacco      462 non-null float64\n",
      "ldl          462 non-null float64\n",
      "adiposity    462 non-null float64\n",
      "famhist      462 non-null object\n",
      "typea        462 non-null int64\n",
      "obesity      462 non-null float64\n",
      "alcohol      462 non-null float64\n",
      "age          462 non-null int64\n",
      "chd          462 non-null int64\n",
      "dtypes: float64(5), int64(5), object(1)\n",
      "memory usage: 39.8+ KB\n"
     ]
    }
   ],
   "source": [
    "chd_df.info()"
   ]
  },
  {
   "cell_type": "code",
   "execution_count": 7,
   "metadata": {},
   "outputs": [],
   "source": [
    "# chd_df['chd'] = chd_df.chd.astype('object')        # Sklearn Logistic regression required integer response variable not obejct"
   ]
  },
  {
   "cell_type": "markdown",
   "metadata": {},
   "source": [
    "- **Drop the \"row.names\" column from the datasets**"
   ]
  },
  {
   "cell_type": "code",
   "execution_count": 8,
   "metadata": {
    "scrolled": true
   },
   "outputs": [],
   "source": [
    "chd_df = chd_df.drop('row.names', axis = 1)"
   ]
  },
  {
   "cell_type": "code",
   "execution_count": 9,
   "metadata": {},
   "outputs": [
    {
     "data": {
      "text/html": [
       "<div>\n",
       "<style scoped>\n",
       "    .dataframe tbody tr th:only-of-type {\n",
       "        vertical-align: middle;\n",
       "    }\n",
       "\n",
       "    .dataframe tbody tr th {\n",
       "        vertical-align: top;\n",
       "    }\n",
       "\n",
       "    .dataframe thead th {\n",
       "        text-align: right;\n",
       "    }\n",
       "</style>\n",
       "<table border=\"1\" class=\"dataframe\">\n",
       "  <thead>\n",
       "    <tr style=\"text-align: right;\">\n",
       "      <th></th>\n",
       "      <th>count</th>\n",
       "      <th>unique</th>\n",
       "      <th>top</th>\n",
       "      <th>freq</th>\n",
       "      <th>mean</th>\n",
       "      <th>std</th>\n",
       "      <th>min</th>\n",
       "      <th>25%</th>\n",
       "      <th>50%</th>\n",
       "      <th>75%</th>\n",
       "      <th>max</th>\n",
       "    </tr>\n",
       "  </thead>\n",
       "  <tbody>\n",
       "    <tr>\n",
       "      <th>sbp</th>\n",
       "      <td>462</td>\n",
       "      <td>NaN</td>\n",
       "      <td>NaN</td>\n",
       "      <td>NaN</td>\n",
       "      <td>138.327</td>\n",
       "      <td>20.4963</td>\n",
       "      <td>101</td>\n",
       "      <td>124</td>\n",
       "      <td>134</td>\n",
       "      <td>148</td>\n",
       "      <td>218</td>\n",
       "    </tr>\n",
       "    <tr>\n",
       "      <th>tobacco</th>\n",
       "      <td>462</td>\n",
       "      <td>NaN</td>\n",
       "      <td>NaN</td>\n",
       "      <td>NaN</td>\n",
       "      <td>3.63565</td>\n",
       "      <td>4.59302</td>\n",
       "      <td>0</td>\n",
       "      <td>0.0525</td>\n",
       "      <td>2</td>\n",
       "      <td>5.5</td>\n",
       "      <td>31.2</td>\n",
       "    </tr>\n",
       "    <tr>\n",
       "      <th>ldl</th>\n",
       "      <td>462</td>\n",
       "      <td>NaN</td>\n",
       "      <td>NaN</td>\n",
       "      <td>NaN</td>\n",
       "      <td>4.74032</td>\n",
       "      <td>2.07091</td>\n",
       "      <td>0.98</td>\n",
       "      <td>3.2825</td>\n",
       "      <td>4.34</td>\n",
       "      <td>5.79</td>\n",
       "      <td>15.33</td>\n",
       "    </tr>\n",
       "    <tr>\n",
       "      <th>adiposity</th>\n",
       "      <td>462</td>\n",
       "      <td>NaN</td>\n",
       "      <td>NaN</td>\n",
       "      <td>NaN</td>\n",
       "      <td>25.4067</td>\n",
       "      <td>7.7807</td>\n",
       "      <td>6.74</td>\n",
       "      <td>19.775</td>\n",
       "      <td>26.115</td>\n",
       "      <td>31.2275</td>\n",
       "      <td>42.49</td>\n",
       "    </tr>\n",
       "    <tr>\n",
       "      <th>famhist</th>\n",
       "      <td>462</td>\n",
       "      <td>2</td>\n",
       "      <td>Absent</td>\n",
       "      <td>270</td>\n",
       "      <td>NaN</td>\n",
       "      <td>NaN</td>\n",
       "      <td>NaN</td>\n",
       "      <td>NaN</td>\n",
       "      <td>NaN</td>\n",
       "      <td>NaN</td>\n",
       "      <td>NaN</td>\n",
       "    </tr>\n",
       "    <tr>\n",
       "      <th>typea</th>\n",
       "      <td>462</td>\n",
       "      <td>NaN</td>\n",
       "      <td>NaN</td>\n",
       "      <td>NaN</td>\n",
       "      <td>53.1039</td>\n",
       "      <td>9.81753</td>\n",
       "      <td>13</td>\n",
       "      <td>47</td>\n",
       "      <td>53</td>\n",
       "      <td>60</td>\n",
       "      <td>78</td>\n",
       "    </tr>\n",
       "    <tr>\n",
       "      <th>obesity</th>\n",
       "      <td>462</td>\n",
       "      <td>NaN</td>\n",
       "      <td>NaN</td>\n",
       "      <td>NaN</td>\n",
       "      <td>26.0441</td>\n",
       "      <td>4.21368</td>\n",
       "      <td>14.7</td>\n",
       "      <td>22.985</td>\n",
       "      <td>25.805</td>\n",
       "      <td>28.4975</td>\n",
       "      <td>46.58</td>\n",
       "    </tr>\n",
       "    <tr>\n",
       "      <th>alcohol</th>\n",
       "      <td>462</td>\n",
       "      <td>NaN</td>\n",
       "      <td>NaN</td>\n",
       "      <td>NaN</td>\n",
       "      <td>17.0444</td>\n",
       "      <td>24.4811</td>\n",
       "      <td>0</td>\n",
       "      <td>0.51</td>\n",
       "      <td>7.51</td>\n",
       "      <td>23.8925</td>\n",
       "      <td>147.19</td>\n",
       "    </tr>\n",
       "    <tr>\n",
       "      <th>age</th>\n",
       "      <td>462</td>\n",
       "      <td>NaN</td>\n",
       "      <td>NaN</td>\n",
       "      <td>NaN</td>\n",
       "      <td>42.816</td>\n",
       "      <td>14.609</td>\n",
       "      <td>15</td>\n",
       "      <td>31</td>\n",
       "      <td>45</td>\n",
       "      <td>55</td>\n",
       "      <td>64</td>\n",
       "    </tr>\n",
       "    <tr>\n",
       "      <th>chd</th>\n",
       "      <td>462</td>\n",
       "      <td>NaN</td>\n",
       "      <td>NaN</td>\n",
       "      <td>NaN</td>\n",
       "      <td>0.34632</td>\n",
       "      <td>0.476313</td>\n",
       "      <td>0</td>\n",
       "      <td>0</td>\n",
       "      <td>0</td>\n",
       "      <td>1</td>\n",
       "      <td>1</td>\n",
       "    </tr>\n",
       "  </tbody>\n",
       "</table>\n",
       "</div>"
      ],
      "text/plain": [
       "          count unique     top freq     mean       std   min     25%     50%  \\\n",
       "sbp         462    NaN     NaN  NaN  138.327   20.4963   101     124     134   \n",
       "tobacco     462    NaN     NaN  NaN  3.63565   4.59302     0  0.0525       2   \n",
       "ldl         462    NaN     NaN  NaN  4.74032   2.07091  0.98  3.2825    4.34   \n",
       "adiposity   462    NaN     NaN  NaN  25.4067    7.7807  6.74  19.775  26.115   \n",
       "famhist     462      2  Absent  270      NaN       NaN   NaN     NaN     NaN   \n",
       "typea       462    NaN     NaN  NaN  53.1039   9.81753    13      47      53   \n",
       "obesity     462    NaN     NaN  NaN  26.0441   4.21368  14.7  22.985  25.805   \n",
       "alcohol     462    NaN     NaN  NaN  17.0444   24.4811     0    0.51    7.51   \n",
       "age         462    NaN     NaN  NaN   42.816    14.609    15      31      45   \n",
       "chd         462    NaN     NaN  NaN  0.34632  0.476313     0       0       0   \n",
       "\n",
       "               75%     max  \n",
       "sbp            148     218  \n",
       "tobacco        5.5    31.2  \n",
       "ldl           5.79   15.33  \n",
       "adiposity  31.2275   42.49  \n",
       "famhist        NaN     NaN  \n",
       "typea           60      78  \n",
       "obesity    28.4975   46.58  \n",
       "alcohol    23.8925  147.19  \n",
       "age             55      64  \n",
       "chd              1       1  "
      ]
     },
     "execution_count": 9,
     "metadata": {},
     "output_type": "execute_result"
    }
   ],
   "source": [
    "# get the summary stats of the variables\n",
    "chd_df.describe(include='all').transpose()"
   ]
  },
  {
   "cell_type": "markdown",
   "metadata": {},
   "source": [
    "### Encode the categorical variables."
   ]
  },
  {
   "cell_type": "code",
   "execution_count": 10,
   "metadata": {},
   "outputs": [],
   "source": [
    "cat_vars = ['famhist']"
   ]
  },
  {
   "cell_type": "code",
   "execution_count": 11,
   "metadata": {
    "scrolled": true
   },
   "outputs": [],
   "source": [
    "for var in cat_vars:\n",
    "    cat_list = 'var'+'_'+ var\n",
    "    cat_list = pd.get_dummies(chd_df[var], prefix=var)   # return value is dataframe\n",
    "    data1=chd_df.join(cat_list)                    # join one df to other\n",
    "    chd_df=data1"
   ]
  },
  {
   "cell_type": "code",
   "execution_count": 12,
   "metadata": {},
   "outputs": [
    {
     "name": "stdout",
     "output_type": "stream",
     "text": [
      "<class 'pandas.core.frame.DataFrame'>\n",
      "RangeIndex: 462 entries, 0 to 461\n",
      "Data columns (total 12 columns):\n",
      "sbp                462 non-null int64\n",
      "tobacco            462 non-null float64\n",
      "ldl                462 non-null float64\n",
      "adiposity          462 non-null float64\n",
      "famhist            462 non-null object\n",
      "typea              462 non-null int64\n",
      "obesity            462 non-null float64\n",
      "alcohol            462 non-null float64\n",
      "age                462 non-null int64\n",
      "chd                462 non-null int64\n",
      "famhist_Absent     462 non-null uint8\n",
      "famhist_Present    462 non-null uint8\n",
      "dtypes: float64(5), int64(4), object(1), uint8(2)\n",
      "memory usage: 37.1+ KB\n"
     ]
    }
   ],
   "source": [
    "chd_df.info()"
   ]
  },
  {
   "cell_type": "code",
   "execution_count": 13,
   "metadata": {
    "scrolled": true
   },
   "outputs": [
    {
     "data": {
      "text/plain": [
       "1    270\n",
       "0    192\n",
       "Name: famhist_Absent, dtype: int64"
      ]
     },
     "execution_count": 13,
     "metadata": {},
     "output_type": "execute_result"
    }
   ],
   "source": [
    "chd_df.famhist_Absent.value_counts()"
   ]
  },
  {
   "cell_type": "code",
   "execution_count": 14,
   "metadata": {},
   "outputs": [
    {
     "data": {
      "text/html": [
       "<div>\n",
       "<style scoped>\n",
       "    .dataframe tbody tr th:only-of-type {\n",
       "        vertical-align: middle;\n",
       "    }\n",
       "\n",
       "    .dataframe tbody tr th {\n",
       "        vertical-align: top;\n",
       "    }\n",
       "\n",
       "    .dataframe thead th {\n",
       "        text-align: right;\n",
       "    }\n",
       "</style>\n",
       "<table border=\"1\" class=\"dataframe\">\n",
       "  <thead>\n",
       "    <tr style=\"text-align: right;\">\n",
       "      <th>col_0</th>\n",
       "      <th>Count</th>\n",
       "    </tr>\n",
       "    <tr>\n",
       "      <th>famhist_Absent</th>\n",
       "      <th></th>\n",
       "    </tr>\n",
       "  </thead>\n",
       "  <tbody>\n",
       "    <tr>\n",
       "      <th>0</th>\n",
       "      <td>192</td>\n",
       "    </tr>\n",
       "    <tr>\n",
       "      <th>1</th>\n",
       "      <td>270</td>\n",
       "    </tr>\n",
       "  </tbody>\n",
       "</table>\n",
       "</div>"
      ],
      "text/plain": [
       "col_0           Count\n",
       "famhist_Absent       \n",
       "0                 192\n",
       "1                 270"
      ]
     },
     "execution_count": 14,
     "metadata": {},
     "output_type": "execute_result"
    }
   ],
   "source": [
    "# OneWay cross tabulation\n",
    "pd.crosstab(index = chd_df.famhist_Absent, columns = 'Count' )"
   ]
  },
  {
   "cell_type": "code",
   "execution_count": 15,
   "metadata": {
    "scrolled": true
   },
   "outputs": [],
   "source": [
    "farmhist_class = pd.crosstab(chd_df.famhist, chd_df.chd, margins = True)"
   ]
  },
  {
   "cell_type": "code",
   "execution_count": 16,
   "metadata": {},
   "outputs": [],
   "source": [
    "farmhist_class.index = ['Absent', 'Present', 'ColTotal']\n",
    "farmhist_class.columns = ['NO_CHD', 'YES_CHD', 'RowTotal']"
   ]
  },
  {
   "cell_type": "code",
   "execution_count": 17,
   "metadata": {},
   "outputs": [
    {
     "data": {
      "text/plain": [
       "pandas.core.frame.DataFrame"
      ]
     },
     "execution_count": 17,
     "metadata": {},
     "output_type": "execute_result"
    }
   ],
   "source": [
    "type(farmhist_class)"
   ]
  },
  {
   "cell_type": "code",
   "execution_count": 18,
   "metadata": {
    "scrolled": true
   },
   "outputs": [
    {
     "data": {
      "text/html": [
       "<div>\n",
       "<style scoped>\n",
       "    .dataframe tbody tr th:only-of-type {\n",
       "        vertical-align: middle;\n",
       "    }\n",
       "\n",
       "    .dataframe tbody tr th {\n",
       "        vertical-align: top;\n",
       "    }\n",
       "\n",
       "    .dataframe thead th {\n",
       "        text-align: right;\n",
       "    }\n",
       "</style>\n",
       "<table border=\"1\" class=\"dataframe\">\n",
       "  <thead>\n",
       "    <tr style=\"text-align: right;\">\n",
       "      <th></th>\n",
       "      <th>NO_CHD</th>\n",
       "      <th>YES_CHD</th>\n",
       "      <th>RowTotal</th>\n",
       "    </tr>\n",
       "  </thead>\n",
       "  <tbody>\n",
       "    <tr>\n",
       "      <th>Absent</th>\n",
       "      <td>206</td>\n",
       "      <td>64</td>\n",
       "      <td>270</td>\n",
       "    </tr>\n",
       "    <tr>\n",
       "      <th>Present</th>\n",
       "      <td>96</td>\n",
       "      <td>96</td>\n",
       "      <td>192</td>\n",
       "    </tr>\n",
       "    <tr>\n",
       "      <th>ColTotal</th>\n",
       "      <td>302</td>\n",
       "      <td>160</td>\n",
       "      <td>462</td>\n",
       "    </tr>\n",
       "  </tbody>\n",
       "</table>\n",
       "</div>"
      ],
      "text/plain": [
       "          NO_CHD  YES_CHD  RowTotal\n",
       "Absent       206       64       270\n",
       "Present       96       96       192\n",
       "ColTotal     302      160       462"
      ]
     },
     "execution_count": 18,
     "metadata": {},
     "output_type": "execute_result"
    }
   ],
   "source": [
    "farmhist_class"
   ]
  },
  {
   "cell_type": "markdown",
   "metadata": {},
   "source": [
    "**Remove the original categorical variable**"
   ]
  },
  {
   "cell_type": "code",
   "execution_count": 19,
   "metadata": {},
   "outputs": [],
   "source": [
    "data_vars=chd_df.columns.values.tolist()\n",
    "to_keep=[i for i in data_vars if i not in cat_vars]    "
   ]
  },
  {
   "cell_type": "code",
   "execution_count": 20,
   "metadata": {},
   "outputs": [
    {
     "name": "stdout",
     "output_type": "stream",
     "text": [
      "Actual variable -  ['sbp', 'tobacco', 'ldl', 'adiposity', 'famhist', 'typea', 'obesity', 'alcohol', 'age', 'chd', 'famhist_Absent', 'famhist_Present']\n",
      "-----------------------------------------------------------------------------------------------------------------------------\n",
      "Variables to keep -  ['sbp', 'tobacco', 'ldl', 'adiposity', 'typea', 'obesity', 'alcohol', 'age', 'chd', 'famhist_Absent', 'famhist_Present']\n"
     ]
    }
   ],
   "source": [
    "print('Actual variable - ',data_vars)\n",
    "print('-'*125)\n",
    "print('Variables to keep - ',to_keep)"
   ]
  },
  {
   "cell_type": "code",
   "execution_count": 21,
   "metadata": {
    "scrolled": true
   },
   "outputs": [
    {
     "name": "stdout",
     "output_type": "stream",
     "text": [
      "<class 'pandas.core.frame.DataFrame'>\n",
      "RangeIndex: 462 entries, 0 to 461\n",
      "Data columns (total 11 columns):\n",
      "sbp                462 non-null int64\n",
      "tobacco            462 non-null float64\n",
      "ldl                462 non-null float64\n",
      "adiposity          462 non-null float64\n",
      "typea              462 non-null int64\n",
      "obesity            462 non-null float64\n",
      "alcohol            462 non-null float64\n",
      "age                462 non-null int64\n",
      "chd                462 non-null int64\n",
      "famhist_Absent     462 non-null uint8\n",
      "famhist_Present    462 non-null uint8\n",
      "dtypes: float64(5), int64(4), uint8(2)\n",
      "memory usage: 33.5 KB\n"
     ]
    }
   ],
   "source": [
    "chd_final = chd_df[to_keep]\n",
    "chd_final.info()"
   ]
  },
  {
   "cell_type": "markdown",
   "metadata": {},
   "source": [
    "#### Method 2: Encoding of Categorical variables"
   ]
  },
  {
   "cell_type": "code",
   "execution_count": 22,
   "metadata": {},
   "outputs": [],
   "source": [
    "# from sklearn.preprocessing import LabelEncoder\n",
    "\n",
    "# lb = LabelEncoder()\n",
    "# df = chd_df.copy()\n",
    "# df['Farmhist_code'] = lb.fit_transform(df['famhist'])\n",
    "# df = df.drop(['famhist', 'famhist_Absent', 'famhist_Present'], axis = 1)\n",
    "# df.sample(15)"
   ]
  },
  {
   "cell_type": "markdown",
   "metadata": {},
   "source": [
    "### Normalize the numerical variables"
   ]
  },
  {
   "cell_type": "code",
   "execution_count": 23,
   "metadata": {},
   "outputs": [
    {
     "name": "stdout",
     "output_type": "stream",
     "text": [
      "['sbp', 'tobacco', 'ldl', 'adiposity', 'typea', 'obesity', 'alcohol', 'age']\n"
     ]
    },
    {
     "data": {
      "text/plain": [
       "8"
      ]
     },
     "execution_count": 23,
     "metadata": {},
     "output_type": "execute_result"
    }
   ],
   "source": [
    "data_vars = chd_final.columns.values.tolist()\n",
    "cat_vars = ['famhist_Absent', 'famhist_Present', 'chd']\n",
    "num_vars = [i for i in data_vars if i not in cat_vars ]\n",
    "\n",
    "print(num_vars)\n",
    "len(num_vars)"
   ]
  },
  {
   "cell_type": "markdown",
   "metadata": {},
   "source": [
    "- **Way to identify the numerical columns in the data frame**"
   ]
  },
  {
   "cell_type": "code",
   "execution_count": 24,
   "metadata": {},
   "outputs": [],
   "source": [
    "# chd_final.dtypes\n",
    "# num_cols = chd_final.columns[chd_final.dtypes.apply(lambda c: np.issubdtype(c, np.number))]\n",
    "# print(num_cols)"
   ]
  },
  {
   "cell_type": "code",
   "execution_count": 25,
   "metadata": {},
   "outputs": [],
   "source": [
    "from sklearn.preprocessing import MinMaxScaler\n",
    "\n",
    "scaler = MinMaxScaler()\n",
    "chd_final[num_vars] = pd.DataFrame(scaler.fit_transform(chd_final[num_vars]), columns = num_vars)"
   ]
  },
  {
   "cell_type": "code",
   "execution_count": 26,
   "metadata": {},
   "outputs": [
    {
     "data": {
      "text/html": [
       "<div>\n",
       "<style scoped>\n",
       "    .dataframe tbody tr th:only-of-type {\n",
       "        vertical-align: middle;\n",
       "    }\n",
       "\n",
       "    .dataframe tbody tr th {\n",
       "        vertical-align: top;\n",
       "    }\n",
       "\n",
       "    .dataframe thead th {\n",
       "        text-align: right;\n",
       "    }\n",
       "</style>\n",
       "<table border=\"1\" class=\"dataframe\">\n",
       "  <thead>\n",
       "    <tr style=\"text-align: right;\">\n",
       "      <th></th>\n",
       "      <th>sbp</th>\n",
       "      <th>tobacco</th>\n",
       "      <th>ldl</th>\n",
       "      <th>adiposity</th>\n",
       "      <th>typea</th>\n",
       "      <th>obesity</th>\n",
       "      <th>alcohol</th>\n",
       "      <th>age</th>\n",
       "      <th>chd</th>\n",
       "      <th>famhist_Absent</th>\n",
       "      <th>famhist_Present</th>\n",
       "    </tr>\n",
       "  </thead>\n",
       "  <tbody>\n",
       "    <tr>\n",
       "      <th>0</th>\n",
       "      <td>0.504274</td>\n",
       "      <td>0.384615</td>\n",
       "      <td>0.331010</td>\n",
       "      <td>0.457902</td>\n",
       "      <td>0.553846</td>\n",
       "      <td>0.332497</td>\n",
       "      <td>0.660371</td>\n",
       "      <td>0.755102</td>\n",
       "      <td>1</td>\n",
       "      <td>0</td>\n",
       "      <td>1</td>\n",
       "    </tr>\n",
       "    <tr>\n",
       "      <th>1</th>\n",
       "      <td>0.367521</td>\n",
       "      <td>0.000321</td>\n",
       "      <td>0.239024</td>\n",
       "      <td>0.611748</td>\n",
       "      <td>0.646154</td>\n",
       "      <td>0.444479</td>\n",
       "      <td>0.013996</td>\n",
       "      <td>0.979592</td>\n",
       "      <td>1</td>\n",
       "      <td>1</td>\n",
       "      <td>0</td>\n",
       "    </tr>\n",
       "    <tr>\n",
       "      <th>2</th>\n",
       "      <td>0.145299</td>\n",
       "      <td>0.002564</td>\n",
       "      <td>0.174216</td>\n",
       "      <td>0.714406</td>\n",
       "      <td>0.600000</td>\n",
       "      <td>0.452949</td>\n",
       "      <td>0.025885</td>\n",
       "      <td>0.632653</td>\n",
       "      <td>0</td>\n",
       "      <td>0</td>\n",
       "      <td>1</td>\n",
       "    </tr>\n",
       "    <tr>\n",
       "      <th>3</th>\n",
       "      <td>0.589744</td>\n",
       "      <td>0.240385</td>\n",
       "      <td>0.378397</td>\n",
       "      <td>0.875245</td>\n",
       "      <td>0.584615</td>\n",
       "      <td>0.542346</td>\n",
       "      <td>0.164821</td>\n",
       "      <td>0.877551</td>\n",
       "      <td>1</td>\n",
       "      <td>0</td>\n",
       "      <td>1</td>\n",
       "    </tr>\n",
       "    <tr>\n",
       "      <th>4</th>\n",
       "      <td>0.282051</td>\n",
       "      <td>0.435897</td>\n",
       "      <td>0.175610</td>\n",
       "      <td>0.588531</td>\n",
       "      <td>0.723077</td>\n",
       "      <td>0.354141</td>\n",
       "      <td>0.389565</td>\n",
       "      <td>0.693878</td>\n",
       "      <td>1</td>\n",
       "      <td>0</td>\n",
       "      <td>1</td>\n",
       "    </tr>\n",
       "    <tr>\n",
       "      <th>5</th>\n",
       "      <td>0.264957</td>\n",
       "      <td>0.198718</td>\n",
       "      <td>0.382578</td>\n",
       "      <td>0.824336</td>\n",
       "      <td>0.753846</td>\n",
       "      <td>0.504078</td>\n",
       "      <td>0.096066</td>\n",
       "      <td>0.612245</td>\n",
       "      <td>0</td>\n",
       "      <td>0</td>\n",
       "      <td>1</td>\n",
       "    </tr>\n",
       "    <tr>\n",
       "      <th>6</th>\n",
       "      <td>0.350427</td>\n",
       "      <td>0.129808</td>\n",
       "      <td>0.167247</td>\n",
       "      <td>0.264615</td>\n",
       "      <td>0.707692</td>\n",
       "      <td>0.191656</td>\n",
       "      <td>0.017800</td>\n",
       "      <td>0.469388</td>\n",
       "      <td>0</td>\n",
       "      <td>1</td>\n",
       "      <td>0</td>\n",
       "    </tr>\n",
       "    <tr>\n",
       "      <th>7</th>\n",
       "      <td>0.111111</td>\n",
       "      <td>0.130769</td>\n",
       "      <td>0.251568</td>\n",
       "      <td>0.219860</td>\n",
       "      <td>0.753846</td>\n",
       "      <td>0.263802</td>\n",
       "      <td>0.045655</td>\n",
       "      <td>0.877551</td>\n",
       "      <td>1</td>\n",
       "      <td>0</td>\n",
       "      <td>1</td>\n",
       "    </tr>\n",
       "    <tr>\n",
       "      <th>8</th>\n",
       "      <td>0.111111</td>\n",
       "      <td>0.000000</td>\n",
       "      <td>0.198606</td>\n",
       "      <td>0.354126</td>\n",
       "      <td>0.553846</td>\n",
       "      <td>0.318695</td>\n",
       "      <td>0.016917</td>\n",
       "      <td>0.285714</td>\n",
       "      <td>0</td>\n",
       "      <td>0</td>\n",
       "      <td>1</td>\n",
       "    </tr>\n",
       "    <tr>\n",
       "      <th>9</th>\n",
       "      <td>0.264957</td>\n",
       "      <td>0.000000</td>\n",
       "      <td>0.335889</td>\n",
       "      <td>0.677483</td>\n",
       "      <td>0.861538</td>\n",
       "      <td>0.483375</td>\n",
       "      <td>0.000000</td>\n",
       "      <td>0.775510</td>\n",
       "      <td>1</td>\n",
       "      <td>0</td>\n",
       "      <td>1</td>\n",
       "    </tr>\n",
       "  </tbody>\n",
       "</table>\n",
       "</div>"
      ],
      "text/plain": [
       "        sbp   tobacco       ldl  adiposity     typea   obesity   alcohol  \\\n",
       "0  0.504274  0.384615  0.331010   0.457902  0.553846  0.332497  0.660371   \n",
       "1  0.367521  0.000321  0.239024   0.611748  0.646154  0.444479  0.013996   \n",
       "2  0.145299  0.002564  0.174216   0.714406  0.600000  0.452949  0.025885   \n",
       "3  0.589744  0.240385  0.378397   0.875245  0.584615  0.542346  0.164821   \n",
       "4  0.282051  0.435897  0.175610   0.588531  0.723077  0.354141  0.389565   \n",
       "5  0.264957  0.198718  0.382578   0.824336  0.753846  0.504078  0.096066   \n",
       "6  0.350427  0.129808  0.167247   0.264615  0.707692  0.191656  0.017800   \n",
       "7  0.111111  0.130769  0.251568   0.219860  0.753846  0.263802  0.045655   \n",
       "8  0.111111  0.000000  0.198606   0.354126  0.553846  0.318695  0.016917   \n",
       "9  0.264957  0.000000  0.335889   0.677483  0.861538  0.483375  0.000000   \n",
       "\n",
       "        age  chd  famhist_Absent  famhist_Present  \n",
       "0  0.755102    1               0                1  \n",
       "1  0.979592    1               1                0  \n",
       "2  0.632653    0               0                1  \n",
       "3  0.877551    1               0                1  \n",
       "4  0.693878    1               0                1  \n",
       "5  0.612245    0               0                1  \n",
       "6  0.469388    0               1                0  \n",
       "7  0.877551    1               0                1  \n",
       "8  0.285714    0               0                1  \n",
       "9  0.775510    1               0                1  "
      ]
     },
     "execution_count": 26,
     "metadata": {},
     "output_type": "execute_result"
    }
   ],
   "source": [
    "chd_final.head(10)"
   ]
  },
  {
   "cell_type": "markdown",
   "metadata": {},
   "source": [
    "**Data to be fed into gradient descent**"
   ]
  },
  {
   "cell_type": "code",
   "execution_count": 27,
   "metadata": {},
   "outputs": [
    {
     "name": "stdout",
     "output_type": "stream",
     "text": [
      "['sbp', 'tobacco', 'ldl', 'adiposity', 'typea', 'obesity', 'alcohol', 'age', 'famhist_Absent', 'famhist_Present']\n",
      "['chd']\n"
     ]
    }
   ],
   "source": [
    "Indep_vars = chd_final.columns.values.tolist()\n",
    "Indep_vars.remove('chd')  # remove the element from the list (1st matched item)\n",
    "Indep_vars\n",
    "dep_vars = ['chd']\n",
    "\n",
    "print(Indep_vars)\n",
    "print(dep_vars)"
   ]
  },
  {
   "cell_type": "code",
   "execution_count": 28,
   "metadata": {},
   "outputs": [],
   "source": [
    "X = chd_final[Indep_vars].values\n",
    "Y = chd_df[\"chd\"]\n",
    "#Y = chd_final[dep_vars].values"
   ]
  },
  {
   "cell_type": "markdown",
   "metadata": {},
   "source": [
    " - **Add columns of '1' to the feature matrix**"
   ]
  },
  {
   "cell_type": "code",
   "execution_count": 29,
   "metadata": {},
   "outputs": [
    {
     "name": "stdout",
     "output_type": "stream",
     "text": [
      "Data type of X -  <class 'numpy.ndarray'>\n",
      "Data type of Y -  <class 'pandas.core.series.Series'>\n",
      "Shape of X -  (462, 11)\n",
      "Shape of Y -  (462,)\n"
     ]
    }
   ],
   "source": [
    "intercept = np.ones((X.shape[0],1))\n",
    "X = np.hstack((intercept, X))\n",
    "\n",
    "print('Data type of X - ', type(X))\n",
    "print('Data type of Y - ', type(Y))\n",
    "print('Shape of X - ', X.shape)\n",
    "print('Shape of Y - ', Y.shape)"
   ]
  },
  {
   "cell_type": "markdown",
   "metadata": {},
   "source": [
    "### Randomly initialize beta values"
   ]
  },
  {
   "cell_type": "code",
   "execution_count": 30,
   "metadata": {},
   "outputs": [],
   "source": [
    "# n_beta = (len(chd_final.columns) - 1 + 1)  # Removing target variable col count, Adding beta for base category\n",
    "# print(n_beta)\n",
    "\n",
    "# betaArray_ls = ([[] for i in range(n_beta)])\n",
    "# betaArray_ls\n",
    "\n",
    "# import random\n",
    "# #random.seed(123)\n",
    "\n",
    "# for i in range(n_beta):\n",
    "#     betaArray_ls[i] = random.random()\n",
    "\n",
    "# # check the beta array\n",
    "# betaArray_ls"
   ]
  },
  {
   "cell_type": "code",
   "execution_count": 31,
   "metadata": {
    "scrolled": true
   },
   "outputs": [],
   "source": [
    "import random\n",
    "\n",
    "def initialize_beta( dim ):\n",
    "    w = np.random.rand( dim ) \n",
    "   # w = w.reshape(dim,1)\n",
    "    return w "
   ]
  },
  {
   "cell_type": "code",
   "execution_count": 32,
   "metadata": {},
   "outputs": [
    {
     "name": "stdout",
     "output_type": "stream",
     "text": [
      "Data type of betaArray -  <class 'numpy.ndarray'>\n",
      "Shape of betaArray -  (11,)\n",
      "--------------------------------------------------------------------------------\n",
      "Beta values -  [0.41236018 0.965492   0.9187604  0.0146348  0.85313846 0.90240959\n",
      " 0.33817588 0.12769646 0.64204363 0.37719722 0.29413808]\n"
     ]
    }
   ],
   "source": [
    "betaArray = np.array(initialize_beta(chd_final[Indep_vars].shape[1] + 1))\n",
    "\n",
    "print('Data type of betaArray - ', type(betaArray))\n",
    "print('Shape of betaArray - ', betaArray.shape)\n",
    "print('-'*80)\n",
    "print('Beta values - ', betaArray)"
   ]
  },
  {
   "cell_type": "markdown",
   "metadata": {},
   "source": [
    "### Define a sigmoid function to predict Y"
   ]
  },
  {
   "cell_type": "code",
   "execution_count": 33,
   "metadata": {},
   "outputs": [],
   "source": [
    "def sigmoid(z):\n",
    "    return 1/(1 + np.exp(-z))"
   ]
  },
  {
   "cell_type": "code",
   "execution_count": 34,
   "metadata": {},
   "outputs": [],
   "source": [
    "def predict_Y( betaArray, X ):\n",
    "    z = np.dot(X, betaArray)     # column vector of (mx1)\n",
    "    h = sigmoid(z)               # predicted y\n",
    "    return h"
   ]
  },
  {
   "cell_type": "markdown",
   "metadata": {},
   "source": [
    "**Checking the functionality**"
   ]
  },
  {
   "cell_type": "code",
   "execution_count": 35,
   "metadata": {},
   "outputs": [
    {
     "name": "stdout",
     "output_type": "stream",
     "text": [
      "Data type of Y_hat -  <class 'numpy.ndarray'>\n",
      "Shape of Y_hat -  (462,)\n",
      "--------------------------------------------------------------------------------\n",
      "Y_hat values -  [0.88282313 0.879508   0.95322049 0.93732612 0.94309917 0.91163822\n",
      " 0.9700556  0.97707577 0.96708611 0.8926542  0.94604965 0.93638341]\n"
     ]
    }
   ],
   "source": [
    "z = np.dot(X, betaArray)     # column vector of (mx1)\n",
    "h = sigmoid(z)               # predicted y\n",
    "\n",
    "print('Data type of Y_hat - ', type(h))\n",
    "print('Shape of Y_hat - ', h.shape)\n",
    "print('-'*80)\n",
    "print('Y_hat values - ', h[450:462])"
   ]
  },
  {
   "cell_type": "markdown",
   "metadata": {},
   "source": [
    "### Define a function for calculating binary cross entropy loss function.\n",
    "<img src=\"img123.gif\">"
   ]
  },
  {
   "cell_type": "code",
   "execution_count": 36,
   "metadata": {},
   "outputs": [],
   "source": [
    "# def loss_function(betaArray, X, Y):\n",
    "#     h = predict_Y(betaArray, X)\n",
    "    \n",
    "#     first = np.multiply(-Y, np.log(h))    # element-wise multiplication\n",
    "#     second = np.multiply(-(1-Y), np.log(1-h))\n",
    "#     logloss = np.sum(first + second)/ (len(X))\n",
    "    \n",
    "#     return logloss"
   ]
  },
  {
   "cell_type": "code",
   "execution_count": 37,
   "metadata": {},
   "outputs": [],
   "source": [
    "def loss_function(h, y):\n",
    "    return (-y * np.log(h) - (1 - y) * np.log(1 - h)).mean()"
   ]
  },
  {
   "cell_type": "markdown",
   "metadata": {},
   "source": [
    "### Define a function for updating beta values. \n",
    "\n",
    "<img src=\"gradient.gif\">"
   ]
  },
  {
   "cell_type": "code",
   "execution_count": 38,
   "metadata": {},
   "outputs": [],
   "source": [
    "def update_beta( X, Y, h, betaArray, learning_rate ):\n",
    "    gradient = np.dot(X.T, (h - Y)) /(len(X))\n",
    "    beta = betaArray - learning_rate*gradient\n",
    "    \n",
    "    return beta"
   ]
  },
  {
   "cell_type": "markdown",
   "metadata": {},
   "source": [
    "**Checking the functionality**"
   ]
  },
  {
   "cell_type": "code",
   "execution_count": 39,
   "metadata": {},
   "outputs": [
    {
     "name": "stdout",
     "output_type": "stream",
     "text": [
      "Shape of gradient -  (11,)\n",
      "Shape of beta -  (11,)\n"
     ]
    }
   ],
   "source": [
    "learning_rate = 0.01\n",
    "gradient = np.dot(X.T, (h - Y)) /(len(X))\n",
    "beta = betaArray - learning_rate*gradient\n",
    "\n",
    "print('Shape of gradient - ', gradient.shape)\n",
    "print('Shape of beta - ', beta.shape)"
   ]
  },
  {
   "cell_type": "markdown",
   "metadata": {},
   "source": [
    "\n",
    "### Function to iterarte Gradient Descent"
   ]
  },
  {
   "cell_type": "code",
   "execution_count": 41,
   "metadata": {},
   "outputs": [
    {
     "name": "stdout",
     "output_type": "stream",
     "text": [
      "Initial guess of beta's:  [0.07559505 0.01257603 0.88392524 0.11509934 0.32034461 0.87194101\n",
      " 0.01041048 0.81554038 0.92999944 0.39716999 0.19788854]\n"
     ]
    }
   ],
   "source": [
    "betaArray = initialize_beta(X.shape[1])\n",
    "print( \"Initial guess of beta's: \", betaArray) "
   ]
  },
  {
   "cell_type": "code",
   "execution_count": 42,
   "metadata": {
    "scrolled": true
   },
   "outputs": [],
   "source": [
    "def logisticRegression_grad(betaArray, num_iter, learning_rate):\n",
    "    iter_num = 0\n",
    "    total_cost = []\n",
    "    \n",
    "    for i in range(num_iter):\n",
    "        Y_hat           = predict_Y(betaArray, X)\n",
    "        this_cost       = loss_function(Y_hat, Y)\n",
    "        prev_betaArray  = betaArray\n",
    "        betaArray       = update_beta(X, Y, Y_hat, prev_betaArray,learning_rate)\n",
    "\n",
    "        if iter_num % 10000 == 0:\n",
    "            print( \"iteration:[\", iter_num, \"]: \", \" - [Cost: ]\", this_cost )\n",
    "            \n",
    "        total_cost.append( this_cost )\n",
    "        iter_num += 1        \n",
    "\n",
    "    print( \"\\n\\nFinal estimates of beta's: \", betaArray )\n",
    "    plt.plot( range(iter_num), total_cost )\n",
    "    \n",
    "    return betaArray"
   ]
  },
  {
   "cell_type": "markdown",
   "metadata": {},
   "source": [
    "[Understanding of binary cross entropy](https://towardsdatascience.com/understanding-binary-cross-entropy-log-loss-a-visual-explanation-a3ac6025181a)"
   ]
  },
  {
   "cell_type": "markdown",
   "metadata": {},
   "source": [
    "### Plot the cost function for different alpha (learning  parameters) values. E.g. 0.01, 0.001, 0.0001"
   ]
  },
  {
   "cell_type": "markdown",
   "metadata": {},
   "source": [
    "**LR = 0.01**"
   ]
  },
  {
   "cell_type": "code",
   "execution_count": 43,
   "metadata": {},
   "outputs": [
    {
     "name": "stdout",
     "output_type": "stream",
     "text": [
      "iteration:[ 0 ]:   - [Cost: ] 1.2953921389327312\n",
      "iteration:[ 10000 ]:   - [Cost: ] 0.5312444315909424\n",
      "iteration:[ 20000 ]:   - [Cost: ] 0.5214984065497275\n",
      "iteration:[ 30000 ]:   - [Cost: ] 0.5170431940777847\n",
      "iteration:[ 40000 ]:   - [Cost: ] 0.5146161793283862\n",
      "iteration:[ 50000 ]:   - [Cost: ] 0.5132269906802746\n",
      "iteration:[ 60000 ]:   - [Cost: ] 0.5124082228641201\n",
      "iteration:[ 70000 ]:   - [Cost: ] 0.5119137007979179\n",
      "iteration:[ 80000 ]:   - [Cost: ] 0.5116081125633584\n",
      "iteration:[ 90000 ]:   - [Cost: ] 0.5114149475324159\n",
      "iteration:[ 100000 ]:   - [Cost: ] 0.5112899543492933\n",
      "iteration:[ 110000 ]:   - [Cost: ] 0.5112070483627239\n",
      "iteration:[ 120000 ]:   - [Cost: ] 0.5111505973577964\n",
      "iteration:[ 130000 ]:   - [Cost: ] 0.5111110918034448\n",
      "iteration:[ 140000 ]:   - [Cost: ] 0.5110826636913172\n",
      "\n",
      "\n",
      "Final estimates of beta's:  [-3.1225405   0.74516614  2.4685206   2.46968429  0.43327609  2.47167877\n",
      " -1.6409738   0.02562541  2.26321175 -1.76312393 -0.83995309]\n"
     ]
    },
    {
     "data": {
      "image/png": "[encoded data removed]",
      "text/plain": [
       "<Figure size 432x288 with 1 Axes>"
      ]
     },
     "metadata": {
      "needs_background": "light"
     },
     "output_type": "display_data"
    }
   ],
   "source": [
    "BetaCoefficients_01 = logisticRegression_grad(betaArray,num_iter=150000, learning_rate = 0.01 )"
   ]
  },
  {
   "cell_type": "markdown",
   "metadata": {},
   "source": [
    "**LR = 0.001**"
   ]
  },
  {
   "cell_type": "code",
   "execution_count": 44,
   "metadata": {},
   "outputs": [
    {
     "name": "stdout",
     "output_type": "stream",
     "text": [
      "iteration:[ 0 ]:   - [Cost: ] 1.2953921389327312\n",
      "iteration:[ 10000 ]:   - [Cost: ] 0.5739305338318125\n",
      "iteration:[ 20000 ]:   - [Cost: ] 0.5607357075471434\n",
      "iteration:[ 30000 ]:   - [Cost: ] 0.5532735729782814\n",
      "iteration:[ 40000 ]:   - [Cost: ] 0.5478060800368773\n",
      "iteration:[ 50000 ]:   - [Cost: ] 0.5435340874830983\n",
      "iteration:[ 60000 ]:   - [Cost: ] 0.5401041983565972\n",
      "iteration:[ 70000 ]:   - [Cost: ] 0.5372936713213069\n",
      "iteration:[ 80000 ]:   - [Cost: ] 0.5349483624097481\n",
      "iteration:[ 90000 ]:   - [Cost: ] 0.5329586012892531\n",
      "iteration:[ 100000 ]:   - [Cost: ] 0.5312451340954195\n",
      "iteration:[ 110000 ]:   - [Cost: ] 0.5297499141767091\n",
      "iteration:[ 120000 ]:   - [Cost: ] 0.5284298748519871\n",
      "iteration:[ 130000 ]:   - [Cost: ] 0.5272526548917302\n",
      "iteration:[ 140000 ]:   - [Cost: ] 0.5261936288531173\n",
      "\n",
      "\n",
      "Final estimates of beta's:  [-1.97628727  0.29320511  1.68978598  0.95392647  0.34205107  0.61051629\n",
      " -0.57511561  0.3218753   1.90569517 -1.19927398 -0.25754982]\n"
     ]
    },
    {
     "data": {
      "image/png": "[encoded data removed]",
      "text/plain": [
       "<Figure size 432x288 with 1 Axes>"
      ]
     },
     "metadata": {
      "needs_background": "light"
     },
     "output_type": "display_data"
    }
   ],
   "source": [
    "BetaCoefficients_001 = logisticRegression_grad(betaArray,num_iter=150000, learning_rate = 0.001 )"
   ]
  },
  {
   "cell_type": "markdown",
   "metadata": {},
   "source": [
    "**LR = 0.0001**"
   ]
  },
  {
   "cell_type": "code",
   "execution_count": 45,
   "metadata": {},
   "outputs": [
    {
     "name": "stdout",
     "output_type": "stream",
     "text": [
      "iteration:[ 0 ]:   - [Cost: ] 1.2953921389327312\n",
      "iteration:[ 10000 ]:   - [Cost: ] 0.8143591164531964\n",
      "iteration:[ 20000 ]:   - [Cost: ] 0.6560219744252166\n",
      "iteration:[ 30000 ]:   - [Cost: ] 0.6114894607106832\n",
      "iteration:[ 40000 ]:   - [Cost: ] 0.5965635926880922\n",
      "iteration:[ 50000 ]:   - [Cost: ] 0.5895357751218885\n",
      "iteration:[ 60000 ]:   - [Cost: ] 0.5850013313863158\n",
      "iteration:[ 70000 ]:   - [Cost: ] 0.5815077089801933\n",
      "iteration:[ 80000 ]:   - [Cost: ] 0.5786034724661354\n",
      "iteration:[ 90000 ]:   - [Cost: ] 0.5761097161766\n",
      "iteration:[ 100000 ]:   - [Cost: ] 0.5739312950209451\n",
      "iteration:[ 110000 ]:   - [Cost: ] 0.57200499400528\n",
      "iteration:[ 120000 ]:   - [Cost: ] 0.5702837824524363\n",
      "iteration:[ 130000 ]:   - [Cost: ] 0.5687310178549089\n",
      "iteration:[ 140000 ]:   - [Cost: ] 0.5673176358212295\n",
      "\n",
      "\n",
      "Final estimates of beta's:  [-1.00505803 -0.14967961  0.94733624  0.05327105  0.0220825   0.29291336\n",
      " -0.30959872  0.66463258  0.81117865 -0.66438257  0.17878801]\n"
     ]
    },
    {
     "data": {
      "image/png": "[encoded data removed]",
      "text/plain": [
       "<Figure size 432x288 with 1 Axes>"
      ]
     },
     "metadata": {
      "needs_background": "light"
     },
     "output_type": "display_data"
    }
   ],
   "source": [
    "BetaCoefficients_0001 = logisticRegression_grad(betaArray,num_iter=150000, learning_rate = 0.0001 )"
   ]
  },
  {
   "cell_type": "markdown",
   "metadata": {
    "collapsed": true
   },
   "source": [
    "### Use sklearn logistic regression API and compare the estimation of beta values"
   ]
  },
  {
   "cell_type": "code",
   "execution_count": 46,
   "metadata": {},
   "outputs": [],
   "source": [
    "from sklearn.linear_model import LogisticRegression"
   ]
  },
  {
   "cell_type": "code",
   "execution_count": 47,
   "metadata": {},
   "outputs": [
    {
     "data": {
      "text/plain": [
       "LogisticRegression(C=1000000000000000.0, class_weight=None, dual=False,\n",
       "          fit_intercept=True, intercept_scaling=1, max_iter=100,\n",
       "          multi_class='warn', n_jobs=None, penalty='l2', random_state=None,\n",
       "          solver='warn', tol=0.0001, verbose=0, warm_start=False)"
      ]
     },
     "execution_count": 47,
     "metadata": {},
     "output_type": "execute_result"
    }
   ],
   "source": [
    "logreg = LogisticRegression(C = 1e15)\n",
    "logreg.fit(chd_final[Indep_vars],chd_final[dep_vars])"
   ]
  },
  {
   "cell_type": "code",
   "execution_count": 48,
   "metadata": {},
   "outputs": [
    {
     "name": "stdout",
     "output_type": "stream",
     "text": [
      "[-2.97750423] [[ 0.76120349  2.47590956  2.49506913  0.66324897  2.57276739 -2.00422897\n",
      "   0.01744179  2.21640778 -1.95143774 -1.02606649]]\n",
      "--------------------------------------------------------------------------------\n",
      "Betas for gradient descent approach_01: [-3.1225405   0.74516614  2.4685206   2.46968429  0.43327609  2.47167877\n",
      " -1.6409738   0.02562541  2.26321175 -1.76312393 -0.83995309]\n",
      "--------------------------------------------------------------------------------\n",
      "Betas for gradient descent approach_001: [-1.97628727  0.29320511  1.68978598  0.95392647  0.34205107  0.61051629\n",
      " -0.57511561  0.3218753   1.90569517 -1.19927398 -0.25754982]\n",
      "--------------------------------------------------------------------------------\n",
      "Betas for gradient descent approach_0001: [-1.00505803 -0.14967961  0.94733624  0.05327105  0.0220825   0.29291336\n",
      " -0.30959872  0.66463258  0.81117865 -0.66438257  0.17878801]\n"
     ]
    }
   ],
   "source": [
    "print(logreg.intercept_, logreg.coef_)\n",
    "print('-'*80)\n",
    "print('Betas for gradient descent approach_01:', BetaCoefficients_01)\n",
    "print('-'*80)\n",
    "print('Betas for gradient descent approach_001:', BetaCoefficients_001)\n",
    "print('-'*80)\n",
    "print('Betas for gradient descent approach_0001:', BetaCoefficients_0001)"
   ]
  },
  {
   "cell_type": "markdown",
   "metadata": {},
   "source": [
    "**Beta values are comparable to the sklearn beta values. Fine tuning will produce more similar beta's.**"
   ]
  },
  {
   "cell_type": "code",
   "execution_count": null,
   "metadata": {},
   "outputs": [],
   "source": []
  }
 ],
 "metadata": {
  "kernelspec": {
   "display_name": "Python 3",
   "language": "python",
   "name": "python3"
  },
  "language_info": {
   "codemirror_mode": {
    "name": "ipython",
    "version": 3
   },
   "file_extension": ".py",
   "mimetype": "text/x-python",
   "name": "python",
   "nbconvert_exporter": "python",
   "pygments_lexer": "ipython3",
   "version": "3.6.8"
  }
 },
 "nbformat": 4,
 "nbformat_minor": 2
}
